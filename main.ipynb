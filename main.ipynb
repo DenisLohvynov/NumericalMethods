{
 "cells": [
  {
   "cell_type": "markdown",
   "metadata": {},
   "source": [
    "## Первая лабораторная работа\n",
    "Логвинов Денис Олесандрович \n",
    "\n",
    "студент групи КА-01\n",
    "\n",
    "варіант 14"
   ]
  },
  {
   "cell_type": "markdown",
   "metadata": {},
   "source": [
    "Подключаю библиотеки для более удобного написания кода."
   ]
  },
  {
   "cell_type": "code",
   "execution_count": 1,
   "metadata": {},
   "outputs": [],
   "source": [
    "from sympy import gcd, diff, simplify, Poly, nroots\n",
    "from sympy.abc import x\n",
    "import sympy  \n",
    "from functools import reduce \n",
    "import numpy as np \n",
    "import matplotlib.pyplot as plt\n",
    "from collections.abc import Callable \n",
    "from scipy.optimize import fsolve"
   ]
  },
  {
   "cell_type": "markdown",
   "metadata": {},
   "source": [
    "Сюда ввожу нужное уравнение, затем убираю корни так, что бы остались только кратности один"
   ]
  },
  {
   "cell_type": "code",
   "execution_count": 2,
   "metadata": {},
   "outputs": [
    {
     "data": {
      "text/latex": [
       "$\\displaystyle x^{7} - 26 x^{6} - 84 x^{5} + 555 x^{4} + 499 x^{3} - 991 x^{2} - 838 x - 1$"
      ],
      "text/plain": [
       "x**7 - 26*x**6 - 84*x**5 + 555*x**4 + 499*x**3 - 991*x**2 - 838*x - 1"
      ]
     },
     "execution_count": 2,
     "metadata": {},
     "output_type": "execute_result"
    }
   ],
   "source": [
    "P = x**7-26*x**6-84*x**5+555*x**4+499*x**3-991*x**2-838*x-1\n",
    "P = simplify(P/gcd(P, diff(P, x))) \n",
    "P"
   ]
  },
  {
   "cell_type": "markdown",
   "metadata": {},
   "source": [
    "Функция которая находить промежутке где расположены корни, которая использует две теоремы - про оценку модулей корней уравнения (с курса численных методов) и теорему про оценку на minimal real root separation, которое определенно как $rsep (P) = \\min\\{|\\lambda_i - \\lambda_j| \\text{for real } \\lambda_i \\neq \\lambda_j\\}$ [тут](https://www.ams.org/journals/mcom/1979-33-145/S0025-5718-1979-0514828-8/S0025-5718-1979-0514828-8.pdf).   \n",
    "\n",
    "**Теорема** Пусть $P$ будет произвольный полином с целыми коэффициентами размера s (сумма модулей его коэффициентов) и степени n. Тогда \n",
    "$$rsep (P) > \\frac{2 * \\sqrt{2}}{n^{\\frac{n}{2}+1}\\cdot (s+1)^n} $$ "
   ]
  },
  {
   "cell_type": "code",
   "execution_count": 3,
   "metadata": {},
   "outputs": [],
   "source": [
    "def IntervalsOfRoots(P: sympy.core.add.Add, rsep_correction: float=0.001, max_root: float=50) -> list[tuple[int]]:\n",
    "    # что бы сделать полином целым (нахожу тут множитель)\n",
    "    def Multiplier(l: list) -> int:\n",
    "        M = 1\n",
    "        for i in l: \n",
    "            temp = 0\n",
    "            while np.floor(i)!=i:\n",
    "                i*=10\n",
    "                temp+=1\n",
    "            if M<temp: \n",
    "                M = temp\n",
    "        return 10**M/reduce(lambda x, y: np.gcd(x, y), map(lambda x: (10**M)*x, l))\n",
    "    \n",
    "    Mult = Multiplier(P.as_poly(domain = \"CC\").all_coeffs())\n",
    "    P = simplify(Mult*P)\n",
    "    print(P)\n",
    "    s = reduce(lambda x, y: abs(x)+abs(y), P.as_poly(domain = \"CC\").all_coeffs())\n",
    "    n = P.as_poly(domain = \"CC\").degree()\n",
    "    # из-за того что это питон и у меня не супер компьютер)\n",
    "    rsep = 2*1.4/(n**(0.5*n+1)*(s+1)**n)\n",
    "    if rsep < rsep_correction:\n",
    "        rsep = rsep_correction \n",
    "    A = np.max(list(map(lambda x: abs(x), P.as_poly(domain = \"CC\").all_coeffs()[1:])))\n",
    "    l = [] \n",
    "    # из-за того что это питон и у меня не супер компьютер)\n",
    "    t = U = 1+A/P.as_poly(domain = \"CC\").all_coeffs()[0]\n",
    "    if 1+A/P.as_poly(domain = \"CC\").all_coeffs()[0] > max_root: \n",
    "        U = max_root\n",
    "    # U = 1+A/P.as_poly(domain = \"CC\").all_coeffs()[0]\n",
    "    print(f\"верхний предел корня для табуляции - {U}, шаг табуляции - {rsep}\")\n",
    "    print(f\"верхний предел корня по теорема из лекции - {t}, оценка на вещественое отделение по теореме выше - {2*1.4/(n**(0.5*n+1)*(s+1)**n)}\")\n",
    "    print(\"Тогда промежутки для корней:\")\n",
    "    for i in np.arange(-U, U, rsep):\n",
    "        if P.evalf(subs={x:i})*P.evalf(subs={x:i+rsep}) <= 0:\n",
    "            l.append((i, i+rsep))\n",
    "    return l\n",
    "    "
   ]
  },
  {
   "cell_type": "markdown",
   "metadata": {},
   "source": [
    "Вызываю функцию с параметрами так, как используемых теорем не хватает и приходится слишком много считать. Как видим найдены все 7 корней."
   ]
  },
  {
   "cell_type": "code",
   "execution_count": 4,
   "metadata": {},
   "outputs": [
    {
     "name": "stdout",
     "output_type": "stream",
     "text": [
      "1.0*x**7 - 26.0*x**6 - 84.0*x**5 + 555.0*x**4 + 499.0*x**3 - 991.0*x**2 - 838.0*x - 1.0\n",
      "верхний предел корня для табуляции - 30, шаг табуляции - 0.1\n",
      "верхний предел корня по теорема из лекции - 992.000000000000, оценка на вещественое отделение по теореме выше - 2.03434304304948E-28\n",
      "Тогда промежутки для корней:\n"
     ]
    },
    {
     "data": {
      "text/plain": [
       "[(-5.299999999999649, -5.199999999999649),\n",
       " (-1.2999999999995921, -1.199999999999592),\n",
       " (-0.8999999999995865, -0.7999999999995865),\n",
       " (-0.0999999999995751, 4.2491010709966304e-13),\n",
       " (1.4000000000004462, 1.5000000000004463),\n",
       " (3.6000000000004775, 3.7000000000004776),\n",
       " (28.200000000000827, 28.30000000000083)]"
      ]
     },
     "execution_count": 4,
     "metadata": {},
     "output_type": "execute_result"
    }
   ],
   "source": [
    "roots = IntervalsOfRoots(P, rsep_correction=0.1, max_root=30)\n",
    "fP = lambda y: P.evalf(subs={x:y})\n",
    "fPp = lambda y: diff(P, x).evalf(subs={x:y})\n",
    "roots "
   ]
  },
  {
   "cell_type": "markdown",
   "metadata": {},
   "source": [
    "И график полинома"
   ]
  },
  {
   "cell_type": "code",
   "execution_count": 26,
   "metadata": {},
   "outputs": [
    {
     "data": {
      "image/png": "[encoded data removed]",
      "text/plain": [
       "<Figure size 432x288 with 1 Axes>"
      ]
     },
     "metadata": {
      "needs_background": "light"
     },
     "output_type": "display_data"
    }
   ],
   "source": [
    "ypppp = np.linspace(-10, 29, 10000)\n",
    "temp = lambda x: x**7-26*x**6-84*x**5+555*x**4+499*x**3-991*x**2-838*x-1 # numpy - быстрый, sympy - медленный, sympy не поддерживает массивы numpy (хотя бы тут) \n",
    "plt.plot(ypppp, temp(ypppp))\n",
    "plt.grid()\n",
    "plt.show() "
   ]
  },
  {
   "cell_type": "markdown",
   "metadata": {},
   "source": [
    "Теперь к трансцендентному уравнению\n",
    "\n",
    "$$1.8 x^2 - \\sin(10x) = 0$$\n",
    "\n",
    "Видно, что для $|x| \\geq 1$ корней нет. Найду остальные корни с помощью графика функции $f(x) = 1.8 x^2 - \\sin(10x)$"
   ]
  },
  {
   "cell_type": "code",
   "execution_count": 6,
   "metadata": {},
   "outputs": [
    {
     "data": {
      "image/png": "[encoded data removed]",
      "text/plain": [
       "<Figure size 432x288 with 1 Axes>"
      ]
     },
     "metadata": {
      "needs_background": "light"
     },
     "output_type": "display_data"
    }
   ],
   "source": [
    "f = lambda x: 1.8*x*x - np.sin(10*x) \n",
    "fp = lambda x: 3.6*x - 10*np.cos(10*x) #f' (prime) \n",
    "y = np.linspace(-1, 1, 1000)\n",
    "plt.plot(y, f(y))\n",
    "plt.grid()\n",
    "plt.show() "
   ]
  },
  {
   "cell_type": "markdown",
   "metadata": {},
   "source": [
    "Из картинки выше видно, что корни расположены не ближе чем на $0.05$ относительно друг друга и видно, что они не парной кратности. Поэтому применю метод табуляции как выше для многочлена "
   ]
  },
  {
   "cell_type": "code",
   "execution_count": 7,
   "metadata": {},
   "outputs": [
    {
     "name": "stdout",
     "output_type": "stream",
     "text": [
      "Корни расположены между точками:\n"
     ]
    },
    {
     "data": {
      "text/plain": [
       "[(-0.5999999999999996, -0.5499999999999996),\n",
       " (-0.3499999999999994, -0.29999999999999943),\n",
       " (-0.049999999999999156, 8.465450562766819e-16),\n",
       " (0.2500000000000011, 0.3000000000000011)]"
      ]
     },
     "execution_count": 7,
     "metadata": {},
     "output_type": "execute_result"
    }
   ],
   "source": [
    "rootsT = []\n",
    "print(\"Корни расположены между точками:\")\n",
    "for i in np.arange(-1, 1, 0.05):\n",
    "    if f(i)*f(i+0.05) <= 0:\n",
    "        rootsT.append((i, i+0.05))\n",
    "rootsT "
   ]
  },
  {
   "cell_type": "markdown",
   "metadata": {},
   "source": [
    "### Метод половинного деления"
   ]
  },
  {
   "cell_type": "code",
   "execution_count": 8,
   "metadata": {},
   "outputs": [],
   "source": [
    "def Half(f: Callable[[float], float], a: float, b: float, eps: float, stop: int = 10000, last_out: int = 10) -> float:\n",
    "    if f(a) == 0:\n",
    "        return a\n",
    "    if f(b) == 0:\n",
    "        return b\n",
    "    if f(a)*f(b) > 0:\n",
    "        raise ValueError(\"f(a) and f(b) have the same sign\")\n",
    "    # т.е. f(b)>0, f(a)<0 \n",
    "    if f(b)<0:\n",
    "        a, b = b, a\n",
    "    i = 0 \n",
    "    text = []\n",
    "    while abs(b-a) > eps or abs(f((a+b)/2)) > eps:\n",
    "        if len(text) >= last_out:\n",
    "            text = text[1: ]\n",
    "        if i > stop:\n",
    "            raise RuntimeError(\"Too many operations\")\n",
    "        i+=1\n",
    "        c = 0.5*(a+b)\n",
    "        if f(c) == 0:\n",
    "            text.append(f\"{i}-я итерация и найден точный корень {c}\")\n",
    "            for sentence in text:\n",
    "                print(sentence)\n",
    "            return c\n",
    "        elif f(c) > 0: \n",
    "            b = c\n",
    "        else:\n",
    "            a = c\n",
    "        if a < b:\n",
    "            text.append(f\"{i}-я итерация с отрезком ({a}, {b}) и значениями функции в точках соответственно {f(a)} и {f(b)}\")\n",
    "        else:\n",
    "            text.append(f\"{i}-я итерация с отрезком ({b}, {a}) и значениями функции в точках соответственно {f(b)} и {f(a)}\")\n",
    "    for sentence in text: \n",
    "        print(sentence)\n",
    "    return (b+a)/2 "
   ]
  },
  {
   "cell_type": "markdown",
   "metadata": {},
   "source": [
    "Пример использования функции"
   ]
  },
  {
   "cell_type": "code",
   "execution_count": 9,
   "metadata": {},
   "outputs": [
    {
     "name": "stdout",
     "output_type": "stream",
     "text": [
      "6-я итерация с отрезком (-0.5671875, -0.565625) и значениями функции в точках соответственно 0.0051220295849809805 и -0.010788685867924475\n",
      "7-я итерация с отрезком (-0.5671875, -0.56640625) и значениями функции в точках соответственно 0.0051220295849809805 и -0.0028521366759288735\n",
      "8-я итерация с отрезком (-0.566796875, -0.56640625) и значениями функции в точках соответственно 0.0011302686083571878 и -0.0028521366759288735\n",
      "9-я итерация с отрезком (-0.566796875, -0.5666015625) и значениями функции в точках соответственно 0.0011302686083571878 и -0.0008621065365278513\n",
      "10-я итерация с отрезком (-0.56669921875, -0.5666015625) и значениями функции в точках соответственно 0.0001337882900506182 и -0.0008621065365278513\n",
      "11-я итерация с отрезком (-0.56669921875, -0.566650390625) и значениями функции в точках соответственно 0.0001337882900506182 и -0.00036423235720284275\n",
      "12-я итерация с отрезком (-0.56669921875, -0.5666748046875) и значениями функции в точках соответственно 0.0001337882900506182 и -0.00011524033613119489\n",
      "13-я итерация с отрезком (-0.5666870117187499, -0.5666748046875) и значениями функции в точках соответственно 9.269402062250798e-06 и -0.00011524033613119489\n",
      "14-я итерация с отрезком (-0.5666870117187499, -0.566680908203125) и значениями функции в точках соответственно 9.269402062250798e-06 и -5.2986610850846994e-05\n",
      "15-я итерация с отрезком (-0.5666870117187499, -0.5666839599609375) и значениями функции в точках соответственно 9.269402062250798e-06 и -2.1858890336678982e-05\n",
      "-0.5666854858398437\n"
     ]
    }
   ],
   "source": [
    "print(Half(f, -0.6, -0.5, 0.00001)) "
   ]
  },
  {
   "cell_type": "markdown",
   "metadata": {},
   "source": [
    "Нахожу все корни двух уравнений"
   ]
  },
  {
   "cell_type": "code",
   "execution_count": 10,
   "metadata": {},
   "outputs": [
    {
     "name": "stdout",
     "output_type": "stream",
     "text": [
      "Roots of x**7 - 26*x**6 - 84*x**5 + 555*x**4 + 499*x**3 - 991*x**2 - 838*x - 1\n",
      "_____________________________\n",
      "29-я итерация с отрезком (-5.288603526353485, -5.288603526167221) и значениями функции в точках соответственно -0.0000129897706422812 и 0.0000229846207278589\n",
      "Тогда примерно корень = -5.288603526260353\n",
      "_____________________________\n",
      "19-я итерация с отрезком (-1.2096673965450022, -1.209667205810139) и значениями функции в точках соответственно 0.0000534753425749799 и -0.0000710413174743984\n",
      "Тогда примерно корень = -1.2096673011775705\n",
      "_____________________________\n",
      "20-я итерация с отрезком (-0.8638978004451431, -0.8638977050777115) и значениями функции в точках соответственно -0.0000107733350977517 и 0.0000277734561414957\n",
      "Тогда примерно корень = -0.8638977527614273\n",
      "_____________________________\n",
      "20-я итерация с отрезком (-0.0011950492854637621, -0.0011949539180321214) и значениями функции в точках соответственно 0.0000351611974633907 и -0.0000445306296294092\n",
      "Тогда примерно корень = -0.0011950016017479416\n",
      "_____________________________\n",
      "22-я итерация с отрезком (1.476048231125324, 1.476048254967182) и значениями функции в точках соответственно -0.0000467885861750837 и 0.0000395907332135263\n",
      "Тогда примерно корень = 1.476048243046253\n",
      "_____________________________\n",
      "26-я итерация с отрезком (3.6302118361001026, 3.6302118375902186) и значениями функции в точках соответственно 0.0000199865598792047 и -0.0000357023387167156\n",
      "Тогда примерно корень = 3.6302118368451604\n",
      "_____________________________\n",
      "40-я итерация с отрезком (28.257103541242223, 28.257103541242312) и значениями функции в точках соответственно -0.0000135278429476742 и 0.0000341217629323371\n",
      "Тогда примерно корень = 28.257103541242266\n",
      "_____________________________\n",
      "Roots of 1.8 x**2 - sin(10x)\n",
      "_____________________________\n",
      "14-я итерация с отрезком (-0.5666870117187497, -0.5666839599609372) и значениями функции в точках соответственно 9.269402059586263e-06 и -2.1858890339232495e-05\n",
      "Тогда примерно корень = -0.5666854858398435\n",
      "_____________________________\n",
      "14-я итерация с отрезком (-0.3344299316406244, -0.33442687988281194) и значениями функции в точках соответственно -3.227073448353046e-06 и 2.2991618668338765e-05\n",
      "Тогда примерно корень = -0.3344284057617182\n",
      "_____________________________\n",
      "15-я итерация с отрезком (-1.525878905403455e-06, 8.465450562766819e-16) и значениями функции в точках соответственно 1.525879324439401e-05 и -8.465450562766817e-15\n",
      "Тогда примерно корень = -7.62939452278455e-07\n",
      "_____________________________\n",
      "15-я итерация с отрезком (0.2980941772460949, 0.29809570312500117) и значениями функции в точках соответственно -1.2491115779139639e-05 и 4.20869464395901e-06\n",
      "Тогда примерно корень = 0.29809494018554805\n",
      "_____________________________\n"
     ]
    }
   ],
   "source": [
    "print(f\"Roots of {P}\")\n",
    "print(\"_____________________________\") \n",
    "for a, b in roots:\n",
    "    # print(a, b)\n",
    "    print(f\"Тогда примерно корень = {Half(fP, a, b, 0.00001, last_out=0)}\")\n",
    "    print(\"_____________________________\") \n",
    "print(f\"Roots of 1.8 x**2 - sin(10x)\")\n",
    "print(\"_____________________________\") \n",
    "for a, b in rootsT:\n",
    "    # print(a, b)\n",
    "    print(f\"Тогда примерно корень = {Half(f, a, b, 0.00001, last_out=0)}\")\n",
    "    print(\"_____________________________\") "
   ]
  },
  {
   "cell_type": "markdown",
   "metadata": {},
   "source": [
    "### Метод хорд"
   ]
  },
  {
   "cell_type": "code",
   "execution_count": 11,
   "metadata": {},
   "outputs": [],
   "source": [
    "def Secant(f: Callable[[float], float], a: float, b: float, eps: float, stop: int = 10000, last_out: int = 10) -> float:\n",
    "    \"\"\"\n",
    "    should check whether it would converge\n",
    "    \"\"\"  \n",
    "    if f(a) == 0:\n",
    "        return a \n",
    "    if f(b) == 0:\n",
    "        return b\n",
    "    if f(a)*f(b) > 0:\n",
    "        raise ValueError(\"f(a) and f(b) have the same sign\")\n",
    "    if b<a:\n",
    "        a, b = b, a\n",
    "    i = 0 \n",
    "    text = []\n",
    "    g = lambda x, a: x - f(x)*(x-a)/(f(x)-f(a)) \n",
    "    x = g(b, a)\n",
    "    while abs(x-b) > eps or abs(f(x)) > eps:\n",
    "        if len(text) >= last_out:\n",
    "            text = text[1: ] \n",
    "        if i > stop:\n",
    "            raise RuntimeError(\"Too many operations\")\n",
    "        i+=1\n",
    "        b = x\n",
    "        x = g(x, a) \n",
    "        # b, x = x, g(x, a)\n",
    "        if f(x) == 0:\n",
    "            text.append(f\"{i}-я c приближением (xk, f(xk)) = ({x}, {f(x)}), т.е. точный корень\")\n",
    "            for sentence in text:\n",
    "                print(sentence)\n",
    "            return x\n",
    "        text.append(f\"{i}-я c приближением (xk, f(xk)) = ({x}, {f(x)})\")\n",
    "    for sentence in text: \n",
    "        print(sentence) \n",
    "    return x "
   ]
  },
  {
   "cell_type": "markdown",
   "metadata": {},
   "source": [
    "Пример использования функции"
   ]
  },
  {
   "cell_type": "code",
   "execution_count": 12,
   "metadata": {},
   "outputs": [
    {
     "name": "stdout",
     "output_type": "stream",
     "text": [
      "1-я c приближением (xk, f(xk)) = (0.0013565313624836189, -0.013561585266411696)\n",
      "2-я c приближением (xk, f(xk)) = (-0.0004115405808836803, 0.004115699050209815)\n",
      "3-я c приближением (xk, f(xk)) = (0.00012726870494642875, -0.0012726575507137237)\n",
      "4-я c приближением (xk, f(xk)) = (-3.912899493117283e-05, 0.00039129269526764273)\n",
      "5-я c приближением (xk, f(xk)) = (1.2051973605552784e-05, -0.00012051947431364748)\n",
      "6-я c приближением (xk, f(xk)) = (-3.7100267684519537e-06, 3.710029245174607e-05)\n",
      "7-я c приближением (xk, f(xk)) = (1.1422732801405589e-06, -1.142273045253834e-05)\n",
      "8-я c приближением (xk, f(xk)) = (-3.516739347373575e-07, 3.5167395699805275e-06)\n",
      "-3.516739347373575e-07\n"
     ]
    }
   ],
   "source": [
    "print(Secant(f, -0.13, 0.1, 0.00001)) "
   ]
  },
  {
   "cell_type": "markdown",
   "metadata": {},
   "source": [
    "Нахожу все корни двух уравнений"
   ]
  },
  {
   "cell_type": "code",
   "execution_count": 13,
   "metadata": {},
   "outputs": [
    {
     "name": "stdout",
     "output_type": "stream",
     "text": [
      "Roots of x**7 - 26*x**6 - 84*x**5 + 555*x**4 + 499*x**3 - 991*x**2 - 838*x - 1\n",
      "_____________________________\n",
      "4-я c приближением (xk, f(xk)) = (-5.28860352627279, 0.00000259492957033008)\n",
      "Тогда примерно корень = -5.28860352627279\n",
      "_____________________________\n",
      "10-я c приближением (xk, f(xk)) = (-1.20966730430745, -0.00000673974811735529)\n",
      "Тогда примерно корень = -1.20966730430745\n",
      "_____________________________\n",
      "4-я c приближением (xk, f(xk)) = (-0.863897796929356, -0.00000935228100909292)\n",
      "Тогда примерно корень = -0.863897796929356\n",
      "_____________________________\n",
      "5-я c приближением (xk, f(xk)) = (-0.00119499836249720, -0.00000739152690368441)\n",
      "Тогда примерно корень = -0.00119499836249720\n",
      "_____________________________\n",
      "6-я c приближением (xk, f(xk)) = (1.47604824269289, -0.00000487914910559509)\n",
      "Тогда примерно корень = 1.47604824269289\n",
      "_____________________________\n",
      "5-я c приближением (xk, f(xk)) = (3.63021183684606, -0.00000789142279520640)\n",
      "Тогда примерно корень = 3.63021183684606\n",
      "_____________________________\n",
      "6-я c приближением (xk, f(xk)) = (28.2571035412422, -1.85953301271223E-7)\n",
      "Тогда примерно корень = 28.2571035412422\n",
      "_____________________________\n",
      "Roots of 1.8 x**2 - sin(10x)\n",
      "_____________________________\n",
      "3-я c приближением (xk, f(xk)) = (-0.5666853882442219, -7.290302271312221e-06)\n",
      "Тогда примерно корень = -0.5666853882442219\n",
      "_____________________________\n",
      "3-я c приближением (xk, f(xk)) = (-0.33442954558911897, 8.961448030864183e-08)\n",
      "Тогда примерно корень = -0.33442954558911897\n",
      "_____________________________\n",
      "Тогда примерно корень = -2.8119524061843656e-17\n",
      "_____________________________\n",
      "3-я c приближением (xk, f(xk)) = (0.29809540782804206, 9.768466591730807e-07)\n",
      "Тогда примерно корень = 0.29809540782804206\n",
      "_____________________________\n"
     ]
    }
   ],
   "source": [
    "print(f\"Roots of {P}\") \n",
    "print(\"_____________________________\") \n",
    "for a, b in roots:\n",
    "    # print(a, b)\n",
    "    print(f\"Тогда примерно корень = {Secant(fP, a, b, 0.00001, last_out=0)}\")\n",
    "    print(\"_____________________________\") \n",
    "print(f\"Roots of 1.8 x**2 - sin(10x)\")\n",
    "print(\"_____________________________\") \n",
    "for a, b in rootsT:\n",
    "    # print(a, b)\n",
    "    print(f\"Тогда примерно корень = {Secant(f, a, b, 0.00001, last_out=0)}\")\n",
    "    print(\"_____________________________\") "
   ]
  },
  {
   "cell_type": "markdown",
   "metadata": {},
   "source": [
    "### Метод касательных"
   ]
  },
  {
   "cell_type": "code",
   "execution_count": 14,
   "metadata": {},
   "outputs": [],
   "source": [
    "def Newton(f: Callable[[float], float], fp: Callable[[float], float], x0: float, eps: float, stop: int = 10000, last_out: int = 10) -> float:\n",
    "    i = 0 \n",
    "    text = [] \n",
    "    x1 = x0\n",
    "    if (temp:=fp(x1))!=0:\n",
    "        x1 = x1 - f(x1)/temp\n",
    "    else: \n",
    "        raise ZeroDivisionError(f\"Derivative equals to zero at {i} iteration at point {x1}\") \n",
    "    while abs(x0-x1) > eps or abs(f(x1)) > eps:\n",
    "        if len(text) >= last_out:\n",
    "            text = text[1: ] \n",
    "        if i > stop:\n",
    "            raise RuntimeError(f\"Too many operations {i}\")\n",
    "        i+=1\n",
    "        x0 = x1\n",
    "        if (temp:=fp(x1))!=0:\n",
    "            x1 = x1 - f(x1)/temp\n",
    "        else:\n",
    "            raise ZeroDivisionError(f\"Derivative equals to zero at {i} iteration at point {x1}\") \n",
    "        text.append(f\"{i}-я c приближением (xk, f(xk)) = ({x1}, {f(x1)})\")\n",
    "    for sentence in text: \n",
    "        print(sentence)\n",
    "    return x1 "
   ]
  },
  {
   "cell_type": "markdown",
   "metadata": {},
   "source": [
    "Пример использования функции"
   ]
  },
  {
   "cell_type": "code",
   "execution_count": 15,
   "metadata": {},
   "outputs": [
    {
     "name": "stdout",
     "output_type": "stream",
     "text": [
      "1-я c приближением (xk, f(xk)) = (0.008919902869846702, -0.08893757449449358)\n",
      "2-я c приближением (xk, f(xk)) = (-3.823457573963289e-05, 0.0003823483794695919)\n",
      "3-я c приближением (xk, f(xk)) = (-2.6127217468523145e-10, 2.612721746975188e-09)\n"
     ]
    },
    {
     "data": {
      "text/plain": [
       "-2.6127217468523145e-10"
      ]
     },
     "execution_count": 15,
     "metadata": {},
     "output_type": "execute_result"
    }
   ],
   "source": [
    "Newton(f, fp, 0.1, 0.0001) "
   ]
  },
  {
   "cell_type": "markdown",
   "metadata": {},
   "source": [
    "Нахожу все корни двух уравнений"
   ]
  },
  {
   "cell_type": "code",
   "execution_count": 16,
   "metadata": {},
   "outputs": [
    {
     "name": "stdout",
     "output_type": "stream",
     "text": [
      "Roots of x**7 - 26*x**6 - 84*x**5 + 555*x**4 + 499*x**3 - 991*x**2 - 838*x - 1\n",
      "_____________________________\n",
      "2-я c приближением (xk, f(xk)) = (-5.28860352629034, -7.94346469628324E-7)\n",
      "Тогда примерно корень = -5.28860352629034\n",
      "_____________________________\n",
      "3-я c приближением (xk, f(xk)) = (-1.20966731463141, 6.77209624336630E-12)\n",
      "Тогда примерно корень = -1.20966731463141\n",
      "_____________________________\n",
      "2-я c приближением (xk, f(xk)) = (-0.863897773791159, 1.82198320107791E-12)\n",
      "Тогда примерно корень = -0.863897773791159\n",
      "_____________________________\n",
      "3-я c приближением (xk, f(xk)) = (-0.00119500720795807, -1.12496132161746E-16)\n",
      "Тогда примерно корень = -0.00119500720795807\n",
      "_____________________________\n",
      "2-я c приближением (xk, f(xk)) = (1.47604824404020, 2.13812643793440E-9)\n",
      "Тогда примерно корень = 1.47604824404020\n",
      "_____________________________\n",
      "2-я c приближением (xk, f(xk)) = (3.63021183663499, -3.51353985340870E-9)\n",
      "Тогда примерно корень = 3.63021183663499\n",
      "_____________________________\n",
      "2-я c приближением (xk, f(xk)) = (28.2571035412422, -1.85953301271223E-7)\n",
      "Тогда примерно корень = 28.2571035412422\n",
      "_____________________________\n",
      "Roots of 1.8 x**2 - sin(10x)\n",
      "_____________________________\n",
      "2-я c приближением (xk, f(xk)) = (-0.5666861029703236, 3.1508129438861943e-13)\n",
      "Тогда примерно корень = -0.5666861029703236\n",
      "_____________________________\n",
      "2-я c приближением (xk, f(xk)) = (-0.33442955601994245, 1.8596235662471372e-15)\n",
      "Тогда примерно корень = -0.33442955601994245\n",
      "_____________________________\n",
      "2-я c приближением (xk, f(xk)) = (-1.991295843749443e-16, 1.991295843749443e-15)\n",
      "Тогда примерно корень = -1.991295843749443e-16\n",
      "_____________________________\n",
      "2-я c приближением (xk, f(xk)) = (0.29809531857306226, 4.810901677032575e-12)\n",
      "Тогда примерно корень = 0.29809531857306226\n",
      "_____________________________\n"
     ]
    }
   ],
   "source": [
    "print(f\"Roots of {P}\") \n",
    "print(\"_____________________________\") \n",
    "for a, b in roots:\n",
    "    # print(a, b)\n",
    "    print(f\"Тогда примерно корень = {Newton(fP, fPp, (a+b)/2, 0.00001, last_out=0)}\")\n",
    "    print(\"_____________________________\") \n",
    "print(f\"Roots of 1.8 x**2 - sin(10x)\") \n",
    "print(\"_____________________________\") \n",
    "for a, b in rootsT:\n",
    "    # print(a, b)\n",
    "    print(f\"Тогда примерно корень = {Newton(f, fp, (a+b)/2, 0.00001, last_out=0)}\")\n",
    "    print(\"_____________________________\") "
   ]
  },
  {
   "cell_type": "markdown",
   "metadata": {},
   "source": [
    "### Проверка решения"
   ]
  },
  {
   "cell_type": "markdown",
   "metadata": {},
   "source": [
    "Нахождения корней полинома с помощью библиотечных функций python. Тут сверх важно, что не с помощью **roots** ведь оно находит точные значения (см. документацию!!!)."
   ]
  },
  {
   "cell_type": "code",
   "execution_count": 17,
   "metadata": {},
   "outputs": [
    {
     "name": "stdout",
     "output_type": "stream",
     "text": [
      "-5.28860352628623\n",
      "-1.20966731463140\n",
      "-0.863897773791164\n",
      "-0.00119500720795807\n",
      "1.47604824403961\n",
      "3.63021183663490\n",
      "28.2571035412422\n"
     ]
    }
   ],
   "source": [
    "x = sympy.symbols('x')\n",
    "for i in Poly(P, x).nroots():\n",
    "    print(i) "
   ]
  },
  {
   "cell_type": "markdown",
   "metadata": {},
   "source": [
    "Нахожу корни для функции $f(x) = 1.8 x^2 - \\sin(10x)$ (кортеж корней из предыдущего приближения графиком)."
   ]
  },
  {
   "cell_type": "code",
   "execution_count": 18,
   "metadata": {},
   "outputs": [
    {
     "name": "stdout",
     "output_type": "stream",
     "text": [
      "Приближения -0.58, корень -0.5666861029702928\n",
      "Приближения -0.3, корень -0.3344295560199424\n",
      "Приближения 0, корень 0.0\n",
      "Приближения 0.26, корень 0.2980953185726226\n"
     ]
    }
   ],
   "source": [
    "for i in (-0.58, -0.3, 0, 0.26):\n",
    "    print(f\"Приближения {i}, корень {fsolve(f, i)[0]}\")"
   ]
  },
  {
   "cell_type": "markdown",
   "metadata": {},
   "source": [
    "### Вывод\n",
    "\n",
    "Множеством всех корней уравнения $$1.8 x^2 - \\sin(10x) = 0$$ есть <font size=\"3.5\">$\\{-0.5666861029702928, -0.3344295560199424, 0, 0.2980953185726226\\}$</font>, а уравнения $$ x^{7} - 26 x^{6} - 84 x^{5} + 555 x^{4} + 499 x^{3} - 991 x^{2} - 838 x - 1 = 0 $$ есть <font size=\"3.5\">$\\{-5.28860352628623, -1.20966731463140, -0.863897773791164, -0.00119500720795807, 1.47604824403961, 3.63021183663490, 28.2571035412422\\}$</font>. Так же можно заметить (с помощью ячеек, где выводятся все корни), что метод Ньютона достигает результата за меньшее число итераций, затем идет метод секущих и при заданных параметрах хуже всего проявил себя метод бисекций. "
   ]
  },
  {
   "cell_type": "code",
   "execution_count": null,
   "metadata": {},
   "outputs": [],
   "source": []
  }
 ],
 "metadata": {
  "interpreter": {
   "hash": "b89b5cfaba6639976dc87ff2fec6d58faec662063367e2c229c520fe71072417"
  },
  "kernelspec": {
   "display_name": "Python 3.10.2 64-bit",
   "language": "python",
   "name": "python3"
  },
  "language_info": {
   "codemirror_mode": {
    "name": "ipython",
    "version": 3
   },
   "file_extension": ".py",
   "mimetype": "text/x-python",
   "name": "python",
   "nbconvert_exporter": "python",
   "pygments_lexer": "ipython3",
   "version": "3.10.2"
  },
  "orig_nbformat": 4
 },
 "nbformat": 4,
 "nbformat_minor": 2
}
