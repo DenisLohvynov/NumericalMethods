{
 "cells": [
  {
   "cell_type": "markdown",
   "metadata": {},
   "source": [
    "# Методи розв'язання нелінійних систем\n",
    "\n",
    "## Завдання 1 (проста ітерація)\n",
    "\n",
    "\\begin{equation}\n",
    "\\begin{cases}  \n",
    "&\\cos(y)+x=1.5\\\\\n",
    "&2y-\\sin(x-0.5) = 1\n",
    "\\end{cases}\n",
    "\\end{equation}"
   ]
  },
  {
   "cell_type": "markdown",
   "metadata": {},
   "source": [
    "### Визначаю початкове наближення за допомогою графіку. "
   ]
  },
  {
   "cell_type": "code",
   "execution_count": 1,
   "metadata": {},
   "outputs": [
    {
     "data": {
      "image/png": "[encoded data removed]",
      "text/plain": [
       "<Figure size 432x288 with 1 Axes>"
      ]
     },
     "metadata": {
      "needs_background": "light"
     },
     "output_type": "display_data"
    }
   ],
   "source": [
    "import matplotlib.pyplot as plt\n",
    "import numpy as np\n",
    "\n",
    "# 2y - sin(x-0.5) = 1\n",
    "xl = np.linspace(-2, 4, 1000)\n",
    "yl = 0.5*np.sin(xl-0.5)+0.5\n",
    "plt.plot(xl, yl, 'b')\n",
    "\n",
    "# cos(y) + x = 1.5\n",
    "yu = np.linspace(-2, 4, 1000)\n",
    "xu = 1.5-np.cos(yu)\n",
    "plt.plot(xu, yu, 'g')\n",
    "\n",
    "\n",
    "plt.xlabel('x')\n",
    "plt.ylabel('y')\n",
    "plt.grid()\n",
    "plt.show()\n"
   ]
  },
  {
   "cell_type": "markdown",
   "metadata": {},
   "source": [
    "Отже, тоді початкове наближення можно взяти за $(x, y) = (0.5, 0.5)$"
   ]
  },
  {
   "cell_type": "markdown",
   "metadata": {},
   "source": [
    "### Перевірю достатні умови збіжності\n",
    "\n",
    "Перше за все перепишу систему (1) в вигляді для простої ітерації\n",
    "\n",
    "\\begin{equation*}\n",
    "\\begin{cases}  \n",
    "&x=1.5-\\cos(y) = \\varphi_1(x, y)\\\\\n",
    "&y = 0.5+0.5\\sin(x-0.5) = \\varphi_2(x, y)\n",
    "\\end{cases}\n",
    "\\end{equation*}"
   ]
  },
  {
   "cell_type": "markdown",
   "metadata": {},
   "source": [
    "Знайду матрицю Якобі для функції $\\Phi(x, y) = \\begin{pmatrix}\\varphi_1(x, y)\\\\ \\varphi_2(x, y)\\end{pmatrix}$.\n",
    "\n",
    "\\begin{equation*}\n",
    "J(x, y) = \\begin{pmatrix} \\frac{\\partial\\varphi_1}{\\partial x}(x, y) & \\frac{\\partial\\varphi_1}{\\partial y}(x, y) \\\\ \\frac{\\partial\\varphi_2}{\\partial x}(x, y) & \\frac{\\partial\\varphi_2}{\\partial y}(x, y)\\end{pmatrix} = \\begin{pmatrix} 0 & \\sin(y) \\\\ 0.5\\cos(x-0.5) & 0\\end{pmatrix}\n",
    "\\end{equation*}"
   ]
  },
  {
   "cell_type": "markdown",
   "metadata": {},
   "source": [
    "Тут як, легко бачити $\\forall (x, y) \\in [-100, 100] \\times [-\\frac{\\pi}{2}+\\varepsilon, \\frac{\\pi}{2}-\\varepsilon]\\; \\forall \\varepsilon \\in (0, \\frac{\\pi}{2})$, що $\\left(|\\sin(y)|<1\\right) \\wedge \\left(|0.5\\cos(x-0.5)|<1\\right)$. Отже послідовність буде збіжної на $[-100, 100] \\times [-\\frac{\\pi}{2}+\\varepsilon, \\frac{\\pi}{2}-\\varepsilon]\\; \\forall \\varepsilon \\in (0, \\frac{\\pi}{2})$, хоча мені здається, що може взагалі всюди, але перевіряти я це не буду."
   ]
  },
  {
   "cell_type": "markdown",
   "metadata": {},
   "source": [
    "### Реалізація методу простих ітерацій "
   ]
  },
  {
   "cell_type": "code",
   "execution_count": 2,
   "metadata": {},
   "outputs": [],
   "source": [
    "from collections.abc import Sequence\n",
    "from typing import Callable\n",
    "\n",
    "\n",
    "def simple_iterations(\n",
    "    Φ: Sequence[Callable[[Sequence[float]], float]],\n",
    "    x_init: Sequence[float],\n",
    "    ε: float = 10**-5,\n",
    "    table: int = 0,\n",
    ") -> list[float]:\n",
    "    norm: Callable[[Sequence[float], Sequence[float]], float] =\\\n",
    "        lambda x, y: max(map(lambda a: abs(a[0]-a[1]), zip(x, y)))\n",
    "\n",
    "    if len(Φ) != len(x_init):\n",
    "        raise ValueError(\"Wrong number of equations!\")\n",
    "    x: list[float] = [f(x_init) for f in Φ]\n",
    "    y: list[float] = list(x_init)\n",
    "\n",
    "    j: int = 2\n",
    "    if table >= 1:\n",
    "        print('0.', y, '-')\n",
    "    if table >= 2:\n",
    "        print('1.', x, norm(x, y))\n",
    "\n",
    "    while norm(x, y) > ε:\n",
    "        for i in range(len(x)):\n",
    "            y[i] = x[i]\n",
    "        for i, f in enumerate(Φ):\n",
    "            x[i] = f(y)\n",
    "        j += 1\n",
    "        if table >= j:\n",
    "            print(f'{j-1}.', x, norm(x, y))\n",
    "    return x\n"
   ]
  },
  {
   "cell_type": "markdown",
   "metadata": {},
   "source": [
    "Перевірка реалізації"
   ]
  },
  {
   "cell_type": "code",
   "execution_count": 3,
   "metadata": {},
   "outputs": [
    {
     "data": {
      "text/plain": [
       "[0.6645900171692727, 0.581923951303976]"
      ]
     },
     "execution_count": 3,
     "metadata": {},
     "output_type": "execute_result"
    }
   ],
   "source": [
    "ψ1: Callable[[Sequence[float]], float] = lambda X: 1.5 - np.cos(X[1])\n",
    "ψ2: Callable[[Sequence[float]], float] = lambda X: 0.5 + 0.5*np.sin(X[0]-0.5)\n",
    "Φ = (ψ1, ψ2)\n",
    "x_init = [0.5, 0.5]\n",
    "simple_iterations(Φ, x_init)"
   ]
  },
  {
   "cell_type": "markdown",
   "metadata": {},
   "source": [
    "### Результати роботи програми у вигляді таблиці"
   ]
  },
  {
   "cell_type": "code",
   "execution_count": 4,
   "metadata": {},
   "outputs": [
    {
     "name": "stdout",
     "output_type": "stream",
     "text": [
      "0. [0.5, 0.5] -\n",
      "1. [0.6224174381096272, 0.5] 0.12241743810962724\n",
      "2. [0.6224174381096272, 0.5610559542919131] 0.06105595429191313\n",
      "3. [0.653306269589244, 0.5610559542919131] 0.03088883147961674\n",
      "4. [0.653306269589244, 0.5763532267392986] 0.015297272447385435\n",
      "5. [0.6615443975090917, 0.5763532267392986] 0.008238127919847682\n",
      "6. [0.6615443975090917, 0.5804213436827695] 0.0040681169434709785\n",
      "7. [0.6637683307505694, 0.5804213436827695] 0.002223933241477738\n",
      "8. [0.6637683307505694, 0.5815186327780892] 0.0010972890953196979\n",
      "9. [0.6643705614224403, 0.5815186327780892] 0.0006022306718709292\n",
      "10. [0.6643705614224403, 0.5818157043636036] 0.00029707158551439683\n",
      "11. [0.6645337778087275, 0.5818157043636036] 0.00016321638628713497\n",
      "12. [0.6645337778087275, 0.5818962115144002] 8.050715079654935e-05\n",
      "13. [0.6645780225608566, 0.5818962115144002] 4.4244752129163345e-05\n",
      "14. [0.6645780225608566, 0.5819180350437645] 2.1823529364306538e-05\n",
      "15. [0.6645900171692727, 0.5819180350437645] 1.199460841605493e-05\n",
      "16. [0.6645900171692727, 0.581923951303976] 5.916260211513702e-06\n"
     ]
    }
   ],
   "source": [
    "answer = simple_iterations(Φ, x_init, table=30)"
   ]
  },
  {
   "cell_type": "markdown",
   "metadata": {},
   "source": [
    "### Перевірка підстановкою\n",
    "\n",
    "Тобто підставлю в $F$, де \n",
    "$$F(x, y) =\\begin{pmatrix}  \n",
    "\\cos(y)+x-1.5\\\\\n",
    "2y-\\sin(x-0.5) - 1\n",
    "\\end{pmatrix}$$ \n",
    "і буду сподіватися що $F(x^*, y^*)\\approx 0$."
   ]
  },
  {
   "cell_type": "code",
   "execution_count": 5,
   "metadata": {},
   "outputs": [
    {
     "data": {
      "text/plain": [
       "(-3.251752701771693e-06, 0.0)"
      ]
     },
     "execution_count": 5,
     "metadata": {},
     "output_type": "execute_result"
    }
   ],
   "source": [
    "def f1(x, y): return np.cos(y)+x-1.5\n",
    "def f2(x, y): return 2*y-np.sin(x-0.5)-1\n",
    "\n",
    "f1(*answer), f2(*answer)"
   ]
  },
  {
   "cell_type": "markdown",
   "metadata": {},
   "source": [
    "Вийшов достатньо гарний результат."
   ]
  },
  {
   "cell_type": "markdown",
   "metadata": {},
   "source": [
    "### Інше початкове наближення\n",
    "\n",
    "Наприклад $(x, y) = (-1, -5)$ та $(x, y) = (5, 10)$."
   ]
  },
  {
   "cell_type": "code",
   "execution_count": 6,
   "metadata": {},
   "outputs": [
    {
     "name": "stdout",
     "output_type": "stream",
     "text": [
      "0. [-1, -5] -\n",
      "1. [1.2163378145367738, 0.0012525066979727772] 5.0012525066979725\n",
      "2. [0.5000007843864117, 0.8283135022078604] 0.8270609955098875\n",
      "3. [0.8238806806563969, 0.5000003921932058] 0.3283131100146546\n",
      "4. [0.6224176261371337, 0.6591239311311673] 0.20146305451926316\n",
      "5. [0.7094709391425535, 0.5610560476020982] 0.09806788352906914\n",
      "6. [0.6533063192377835, 0.6039712164106806] 0.05616461990477006\n",
      "7. [0.6769132046468471, 0.5763532512724191] 0.027617965138261535\n",
      "8. [0.6615444108789045, 0.5879959005929615] 0.015368793767942646\n",
      "9. [0.6679459875506129, 0.5804213502806388] 0.007574550312322681\n",
      "10. [0.6637683343686847, 0.5835787951110293] 0.004177653181928198\n",
      "11. [0.6655039678907189, 0.5815186345629415] 0.002060160548087775\n",
      "12. [0.6643705624028482, 0.582374716644323] 0.0011334054878706645\n",
      "13. [0.6648411089479179, 0.5818157048472004] 0.0005590117971226993\n",
      "14. [0.6645337780744841, 0.5820477979337396] 0.0003073308734338198\n",
      "15. [0.6646613454284347, 0.5818962116454839] 0.00015158628825573395\n",
      "16. [0.6645780226329014, 0.5819591332462778] 8.332279553324717e-05\n",
      "17. [0.6646126065685674, 0.5819180350793002] 4.109816697761559e-05\n",
      "18. [0.6645900171888041, 0.5819350933417791] 2.258937976329367e-05\n",
      "19. [0.6645993929969696, 0.5819239513136097] 1.1142028169319751e-05\n",
      "20. [0.6645932689272697, 0.581928575859942] 6.124069699908752e-06\n"
     ]
    }
   ],
   "source": [
    "answer_1 = simple_iterations(Φ, (-1, -5), table=30)"
   ]
  },
  {
   "cell_type": "code",
   "execution_count": 7,
   "metadata": {},
   "outputs": [
    {
     "name": "stdout",
     "output_type": "stream",
     "text": [
      "0. [5, 10] -\n",
      "1. [2.3390715290764525, 0.011234941167451495] 9.988765058832549\n",
      "2. [0.5000631112876678, 0.9821147601687327] 1.8390084177887847\n",
      "3. [0.9447350002446409, 0.500031555643813] 0.4820832045249197\n",
      "4. [0.622432567128086, 0.7151093367918848] 0.3223024331165548\n",
      "5. [0.7449784464067437, 0.5610634621839267] 0.15404587460795816\n",
      "6. [0.6533102644165264, 0.6212677073934639] 0.09166818199021731\n",
      "7. [0.6868587796936861, 0.5763552007258479] 0.04491250666761604\n",
      "8. [0.6615454732739972, 0.592886638322778] 0.025313306419688986\n",
      "9. [0.6706687936987985, 0.580421874561976] 0.012464763760801967\n",
      "10. [0.6637686218722763, 0.5849207320316179] 0.00690017182652225\n",
      "11. [0.6662441450091069, 0.5815187763913221] 0.003401955640295773\n",
      "12. [0.6643706403082763, 0.5827397255123776] 0.001873504700830586\n",
      "13. [0.6650419226499795, 0.5818157432748918] 0.0009239822374857987\n",
      "14. [0.6645337991921075, 0.582146842058788] 0.0005081234578719895\n",
      "15. [0.6647157976162955, 0.581896222061697] 0.0002506199970909728\n",
      "16. [0.6645780283577466, 0.5819859909564618] 0.0001377692585489143\n",
      "17. [0.6646273695225087, 0.5819180379030444] 6.79530534173356e-05\n",
      "18. [0.6645900187408109, 0.5819423750263626] 3.735078169775363e-05\n",
      "19. [0.6646033953354675, 0.581923952079126] 1.8422947236640397e-05\n",
      "20. [0.664593269348022, 0.5819305499808849] 1.0125987445541718e-05\n",
      "21. [0.6645968957856995, 0.5819255554173165] 4.994563568394561e-06\n"
     ]
    }
   ],
   "source": [
    "answer_2 = simple_iterations(Φ, (5, 10), table=30)"
   ]
  },
  {
   "cell_type": "markdown",
   "metadata": {},
   "source": [
    "Як бачимо, взявши дещо дальшу точку від корня маємо ітераційний проект, що збігається довше."
   ]
  },
  {
   "cell_type": "markdown",
   "metadata": {},
   "source": [
    "### Розв'язання з використанням fsolve"
   ]
  },
  {
   "cell_type": "code",
   "execution_count": 8,
   "metadata": {},
   "outputs": [
    {
     "data": {
      "text/plain": [
       "array([0.66459448, 0.58192615])"
      ]
     },
     "execution_count": 8,
     "metadata": {},
     "output_type": "execute_result"
    }
   ],
   "source": [
    "from scipy.optimize import fsolve\n",
    "\n",
    "\n",
    "fsolve(lambda X: (f1(*X), f2(*X)), (0.5, 0.5))\n"
   ]
  },
  {
   "cell_type": "markdown",
   "metadata": {},
   "source": [
    "## Завдання 2 (метод Ньютона)\n",
    "\n",
    "\\begin{equation*}\n",
    "\\begin{cases}  \n",
    "&\\sin(x+y) = 1.2x-0.1\\\\\n",
    "&x^2+y^2=1\n",
    "\\end{cases}\n",
    "\\end{equation*}"
   ]
  },
  {
   "cell_type": "markdown",
   "metadata": {},
   "source": [
    "### Визначаю початкове наближення за допомогою графіку. "
   ]
  },
  {
   "cell_type": "code",
   "execution_count": 17,
   "metadata": {},
   "outputs": [
    {
     "data": {
      "image/png": "[encoded data removed]",
      "text/plain": [
       "<Figure size 432x288 with 1 Axes>"
      ]
     },
     "metadata": {
      "needs_background": "light"
     },
     "output_type": "display_data"
    }
   ],
   "source": [
    "# sin(x+y) = 1.2x-0.1\n",
    "u = np.linspace(-2, 2, 1000)\n",
    "v = (np.sin(u)+0.1)/0.6 - u\n",
    "plt.plot((u+v)/2, (u-v)/2, 'b')\n",
    "# Параметризував x = 0.5(u+v), y = 0.5(u-v) =>\n",
    "#  v = (sin(u) + 0.1)/0.6 - u\n",
    "\n",
    "\n",
    "# x^2 + y^2 = 1\n",
    "t = np.linspace(0, 6.28, 1000)\n",
    "plt.plot(np.sin(t), np.cos(t), 'g')\n",
    "\n",
    "\n",
    "plt.xlabel('x')\n",
    "plt.ylabel('y')\n",
    "plt.grid()\n",
    "plt.show()\n"
   ]
  },
  {
   "cell_type": "markdown",
   "metadata": {},
   "source": [
    "Тут наближено можна побачити 2 корені $(x, y) = (0.8, 0.4), (x, y) = (-0.75, -0.6)$."
   ]
  },
  {
   "cell_type": "markdown",
   "metadata": {},
   "source": [
    "### Реалізація спрощеного методу Ньютона"
   ]
  },
  {
   "cell_type": "markdown",
   "metadata": {},
   "source": [
    "Спочатку знайду матрицю Якобі в загальному виді.\n",
    "\\begin{equation*}\n",
    "\\begin{aligned}  \n",
    "&f_1(x, y) = \\sin(x+y) - 1.2x+0.1,\\\\\n",
    "&f_2(x, y) = x^2+y^2-1.\n",
    "\\end{aligned}\n",
    "\\end{equation*}"
   ]
  },
  {
   "cell_type": "markdown",
   "metadata": {},
   "source": [
    "Тоді \n",
    "\\begin{equation*}\n",
    "W(x, y) = \\begin{pmatrix} \\frac{\\partial f_1}{\\partial x}(x, y) & \\frac{\\partial f_1}{\\partial y}(x, y) \\\\ \\frac{\\partial f_2}{\\partial x}(x, y) & \\frac{\\partial f_2}{\\partial y}(x, y)\\end{pmatrix} =\n",
    "\\begin{pmatrix}\n",
    "\\cos(x+y)-1.2 & \\cos(x+y)\\\\\n",
    "2x & 2y\n",
    "\\end{pmatrix}\n",
    "\\end{equation*}"
   ]
  },
  {
   "cell_type": "markdown",
   "metadata": {},
   "source": [
    "Тут при реалізації спрощеного метода Ньютона знайду $W^{-1}$, бо не бачу сенсу на кожній ітерації розв'язувати СЛАР."
   ]
  },
  {
   "cell_type": "code",
   "execution_count": 10,
   "metadata": {},
   "outputs": [],
   "source": [
    "def simple_Newton(\n",
    "        x_init: Sequence[float],\n",
    "        W: Callable[[np.ndarray], np.ndarray],\n",
    "        F: Callable[[np.ndarray], np.ndarray],\n",
    "        ε: float = 10**-5,\n",
    "        table: int = 0) -> np.ndarray:\n",
    "\n",
    "    norm = lambda x, y: np.max(np.abs(x-y)) \n",
    "    y = np.array(x_init, dtype=float)\n",
    "    W_ = np.linalg.inv(W(y))\n",
    "    x = y - W_@F(y)\n",
    "    if table >= 1:\n",
    "        print('0.', y, '-')\n",
    "    if table >= 2:\n",
    "        print('1.', x, norm(x, y))\n",
    "    j: int = 2\n",
    "    while norm(x, y) > ε:\n",
    "        np.copyto(y, x)\n",
    "        x = y - W_@F(y)\n",
    "        j += 1\n",
    "        if table >= j:\n",
    "            print(f'{j-1}.', x, norm(x, y))\n",
    "    return x\n"
   ]
  },
  {
   "cell_type": "markdown",
   "metadata": {},
   "source": [
    "Перевірка реалізації"
   ]
  },
  {
   "cell_type": "code",
   "execution_count": 11,
   "metadata": {},
   "outputs": [
    {
     "data": {
      "text/plain": [
       "array([0.89480936, 0.44644809])"
      ]
     },
     "execution_count": 11,
     "metadata": {},
     "output_type": "execute_result"
    }
   ],
   "source": [
    "def W(X: np.ndarray) -> np.ndarray:\n",
    "    x, y, *_ = X\n",
    "    return np.array((\n",
    "        (np.cos(x+y)-1.2, np.cos(x+y)), (2*x, 2*y)\n",
    "    ), dtype=np.float64)\n",
    "\n",
    "\n",
    "def F(X: np.ndarray) -> np.ndarray:\n",
    "    x, y, *_ = X\n",
    "    return np.array(\n",
    "        [np.sin(x+y)-1.2*x+0.1, x**2+y**2-1],\n",
    "        dtype=np.float64)\n",
    "\n",
    "\n",
    "simple_Newton([0.8, 0.4], W, F)\n"
   ]
  },
  {
   "cell_type": "markdown",
   "metadata": {},
   "source": [
    "### Результати роботи програми у вигляді таблиці"
   ]
  },
  {
   "cell_type": "code",
   "execution_count": 12,
   "metadata": {},
   "outputs": [
    {
     "name": "stdout",
     "output_type": "stream",
     "text": [
      "0. [0.8 0.4] -\n",
      "1. [0.90409173 0.44181654] 0.10409173194833898\n",
      "2. [0.89398473 0.44630091] 0.010107006068406421\n",
      "3. [0.89494223 0.4463944 ] 0.0009575080372904443\n",
      "4. [0.89479687 0.44644818] 0.0001453651261761335\n",
      "5. [0.89481132 0.4464475 ] 1.445498766128317e-05\n",
      "6. [0.89480936 0.44644809] 1.9656990680738673e-06\n"
     ]
    }
   ],
   "source": [
    "solution = simple_Newton((0.8, 0.4), W, F, table=16)"
   ]
  },
  {
   "cell_type": "markdown",
   "metadata": {},
   "source": [
    "### Перевірка підстановкою (**_F_**)"
   ]
  },
  {
   "cell_type": "code",
   "execution_count": 13,
   "metadata": {},
   "outputs": [
    {
     "data": {
      "text/plain": [
       "array([ 1.86341431e-07, -3.18518610e-07])"
      ]
     },
     "execution_count": 13,
     "metadata": {},
     "output_type": "execute_result"
    }
   ],
   "source": [
    "F(solution)"
   ]
  },
  {
   "cell_type": "markdown",
   "metadata": {},
   "source": [
    "близько до $(0, 0)$."
   ]
  },
  {
   "cell_type": "markdown",
   "metadata": {},
   "source": [
    "### Інше початкове наближення\n",
    "\n",
    "Наприклад $(x, y) = (-0.75, -0.6)$ та $(x, y) = (5, 10)$."
   ]
  },
  {
   "cell_type": "code",
   "execution_count": 14,
   "metadata": {},
   "outputs": [
    {
     "name": "stdout",
     "output_type": "stream",
     "text": [
      "0. [-0.75 -0.6 ] -\n",
      "1. [-0.74192473 -0.67467742] 0.07467742259270682\n",
      "2. [-0.73937144 -0.67316743] 0.002553289513227419\n",
      "3. [-0.73960232 -0.67302506] 0.00023088519934988394\n",
      "4. [-0.73960172 -0.6730472 ] 2.21419980432902e-05\n",
      "5. [-0.73960019 -0.67304641] 1.5281380131293432e-06\n"
     ]
    }
   ],
   "source": [
    "solution_1 = simple_Newton((-0.75, -0.6), W, F, table=16)"
   ]
  },
  {
   "cell_type": "markdown",
   "metadata": {},
   "source": [
    "Як бачимо розв'язок збігається до іншого розв'язку."
   ]
  },
  {
   "cell_type": "code",
   "execution_count": 15,
   "metadata": {},
   "outputs": [
    {
     "name": "stdout",
     "output_type": "stream",
     "text": [
      "0. [ 1. 10.] -\n",
      "1. [-0.77432171  5.17743217] 4.822567829392065\n",
      "2. [-0.71513398  3.8512445 ] 1.3261876718885555\n",
      "3. [0.08792232 3.05376383] 0.8030562996811436\n",
      "4. [0.08169808 2.63772606] 0.41603776928763425\n",
      "5. [0.42482203 2.3052    ] 0.34312394760888515\n",
      "6. [0.41584917 2.08137624] 0.22382375290913936\n",
      "7. [0.58382177 1.8893261 ] 0.19205014019126154\n",
      "8. [0.59931994 1.74225624] 0.14706986632599284\n",
      "9. [0.68096908 1.61435927] 0.12789697322476123\n",
      "10. [0.70704626 1.50825781] 0.10610145454320352\n",
      "11. [0.74930935 1.4152937 ] 0.09296411120844028\n",
      "12. [0.77380677 1.33461792] 0.08067577947218085\n",
      "13. [0.79893361 1.26310614] 0.07151177916155915\n",
      "14. [0.81795813 1.19951709] 0.06358905433950635\n",
      "15. [0.83475704 1.14244236] 0.05707472836190797\n"
     ]
    },
    {
     "data": {
      "text/plain": [
       "array([0.89484344, 0.44658148])"
      ]
     },
     "execution_count": 15,
     "metadata": {},
     "output_type": "execute_result"
    }
   ],
   "source": [
    "solution_2 = simple_Newton((1, 10), W, F, table=16)\n",
    "solution_2"
   ]
  },
  {
   "cell_type": "markdown",
   "metadata": {},
   "source": [
    "Як бачимо в цьому випадку значно дольше, але все ж таки збігається до розв'язку (одного з розв'язків)."
   ]
  },
  {
   "cell_type": "markdown",
   "metadata": {},
   "source": [
    "### Розв'язання з використанням fsolve"
   ]
  },
  {
   "cell_type": "code",
   "execution_count": 16,
   "metadata": {},
   "outputs": [
    {
     "data": {
      "text/plain": [
       "array([0.89480955, 0.44644807])"
      ]
     },
     "execution_count": 16,
     "metadata": {},
     "output_type": "execute_result"
    }
   ],
   "source": [
    "from scipy.optimize import fsolve\n",
    "\n",
    "\n",
    "fsolve(F, (0.8, 0.4))\n"
   ]
  },
  {
   "cell_type": "markdown",
   "metadata": {},
   "source": [
    "## Висновок\n",
    "\n",
    "Отже, мною було реалізовні два методи розв'язання нелінійних систем рівнянь. Метод простої ітерації та спрощений метод Ньютона. При тестуванні методів було помічено, що чим ближче початкове наближення тим швидше метод збігається і збігається туди куди було заплановано, в другому методі (Ньютона) при різних початкових значеннях метод збігався до двох різних розв'язків."
   ]
  }
 ],
 "metadata": {
  "interpreter": {
   "hash": "52634da84371cba311ea128a5ea7cdc41ff074b781779e754b270ff9f8153cee"
  },
  "kernelspec": {
   "display_name": "Python 3.10.2 64-bit",
   "language": "python",
   "name": "python3"
  },
  "language_info": {
   "codemirror_mode": {
    "name": "ipython",
    "version": 3
   },
   "file_extension": ".py",
   "mimetype": "text/x-python",
   "name": "python",
   "nbconvert_exporter": "python",
   "pygments_lexer": "ipython3",
   "version": "3.10.2"
  },
  "orig_nbformat": 4
 },
 "nbformat": 4,
 "nbformat_minor": 2
}
